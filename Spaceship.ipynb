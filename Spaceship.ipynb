{
 "cells": [
  {
   "cell_type": "raw",
   "id": "e5cfbade-1e88-4778-9d81-a86cfeab6737",
   "metadata": {},
   "source": [
    "Project source: https://www.kaggle.com/competitions/spaceship-titanic"
   ]
  },
  {
   "cell_type": "markdown",
   "id": "64885326-f496-47c9-bd07-526a253c854c",
   "metadata": {},
   "source": [
    "## Import module and dataset"
   ]
  },
  {
   "cell_type": "code",
   "execution_count": null,
   "id": "c290516a-146d-4f09-a547-3914e59ec3c7",
   "metadata": {},
   "outputs": [],
   "source": [
    "import pandas as pd\n",
    "import numpy as np\n",
    "import os as os\n",
    "import seaborn as sns\n",
    "import matplotlib.pyplot as plt\n",
    "%matplotlib inline\n",
    "import warnings\n",
    "warnings.filterwarnings(\"ignore\")\n",
    "#warnings.filterwarnings(\"default\")"
   ]
  },
  {
   "cell_type": "code",
   "execution_count": null,
   "id": "cf6505ef-baf5-41d4-a0db-31f18b7d2d47",
   "metadata": {},
   "outputs": [],
   "source": [
    "df_train = pd.read_csv('./spaceship-titanic/train.csv')\n",
    "df_test = pd.read_csv('./spaceship-titanic/test.csv')"
   ]
  },
  {
   "cell_type": "markdown",
   "id": "7eecc55a-e5c2-40c8-889d-ab45718a4be9",
   "metadata": {
    "tags": []
   },
   "source": [
    "## 1 Check Dataset"
   ]
  },
  {
   "cell_type": "markdown",
   "id": "1d603461-61f2-4463-a3d6-52597bace535",
   "metadata": {},
   "source": [
    "### 1.1 Preview Dataset"
   ]
  },
  {
   "cell_type": "code",
   "execution_count": null,
   "id": "0e4abd08-20d7-4355-9a20-2f9bbb8dbdb3",
   "metadata": {},
   "outputs": [],
   "source": [
    "print('Train dataset preview:\\n')\n",
    "df_train.head()"
   ]
  },
  {
   "cell_type": "code",
   "execution_count": null,
   "id": "8efe436c-249d-420c-93db-6a7432e1232a",
   "metadata": {},
   "outputs": [],
   "source": [
    "print('Test dataset preview:\\n')\n",
    "df_test.head()"
   ]
  },
  {
   "cell_type": "markdown",
   "id": "e688b06d-e41b-448d-877c-40fc3ec91392",
   "metadata": {},
   "source": [
    "### 1.2 Dimensions of Data"
   ]
  },
  {
   "cell_type": "code",
   "execution_count": null,
   "id": "5266378d-7741-463e-93be-0fce909b9909",
   "metadata": {},
   "outputs": [],
   "source": [
    "df_train.shape"
   ]
  },
  {
   "cell_type": "code",
   "execution_count": null,
   "id": "8ff14921-0071-45d1-a203-cd3ca9497986",
   "metadata": {},
   "outputs": [],
   "source": [
    "df_test.shape"
   ]
  },
  {
   "cell_type": "code",
   "execution_count": null,
   "id": "969c7323-e9c6-4c88-832f-fb158d6832d9",
   "metadata": {},
   "outputs": [],
   "source": []
  },
  {
   "cell_type": "markdown",
   "id": "db903afe-cd18-4841-b433-3a1c65c06d39",
   "metadata": {},
   "source": [
    "### 1.3 Types of Data"
   ]
  },
  {
   "cell_type": "code",
   "execution_count": null,
   "id": "55f9439f-1149-4d57-b10b-c749c912d859",
   "metadata": {},
   "outputs": [],
   "source": [
    "df_train.dtypes"
   ]
  },
  {
   "cell_type": "code",
   "execution_count": null,
   "id": "1c0187fa-5618-4603-b86d-75dedb22d996",
   "metadata": {},
   "outputs": [],
   "source": [
    "col = df_train.columns[:-1].tolist()"
   ]
  },
  {
   "cell_type": "code",
   "execution_count": null,
   "id": "157a3651-db3d-44b4-b18f-cd68dffe2502",
   "metadata": {},
   "outputs": [],
   "source": [
    "col"
   ]
  },
  {
   "cell_type": "code",
   "execution_count": null,
   "id": "2d75c53c-84a2-4a50-8d1c-cc4d7c3b433e",
   "metadata": {},
   "outputs": [],
   "source": [
    "col_label = df_train.columns[-1]"
   ]
  },
  {
   "cell_type": "code",
   "execution_count": null,
   "id": "6913b395-6459-44f3-a7f1-9c4008f6bc43",
   "metadata": {},
   "outputs": [],
   "source": [
    "col_label"
   ]
  },
  {
   "cell_type": "code",
   "execution_count": null,
   "id": "0261ccfd-ccef-44b2-8dd2-4cd0f6cf1cfb",
   "metadata": {},
   "outputs": [],
   "source": [
    "col_numeric = df_train._get_numeric_data().columns.tolist()"
   ]
  },
  {
   "cell_type": "code",
   "execution_count": null,
   "id": "b0bfa876-ee28-4695-a188-f308b1d66cd8",
   "metadata": {},
   "outputs": [],
   "source": [
    "col_numeric.remove(col_label)"
   ]
  },
  {
   "cell_type": "code",
   "execution_count": null,
   "id": "bdbc744c-9cae-44a5-a4f6-1592f7672ba8",
   "metadata": {},
   "outputs": [],
   "source": [
    "col_numeric "
   ]
  },
  {
   "cell_type": "code",
   "execution_count": null,
   "id": "42970f1c-1146-4c80-b4c3-baaf7068ffd4",
   "metadata": {},
   "outputs": [],
   "source": [
    "col_categorical = list(set(col) - set(col_numeric) - set(col_label))"
   ]
  },
  {
   "cell_type": "code",
   "execution_count": null,
   "id": "e09cff26-b6a1-4d7f-9265-9e266e966ae2",
   "metadata": {},
   "outputs": [],
   "source": [
    "col_categorical"
   ]
  },
  {
   "cell_type": "markdown",
   "id": "e27b1614-22fc-4898-bce9-3a488ee34525",
   "metadata": {},
   "source": [
    "### 1.4 Statistics of Data"
   ]
  },
  {
   "cell_type": "code",
   "execution_count": null,
   "id": "50b5e707-179b-4d01-984c-dce60698c719",
   "metadata": {},
   "outputs": [],
   "source": [
    "df_train.describe()"
   ]
  },
  {
   "cell_type": "code",
   "execution_count": null,
   "id": "149f8e80-3794-4c6b-b266-1ad65a3b4035",
   "metadata": {},
   "outputs": [],
   "source": [
    "df_test.describe()"
   ]
  },
  {
   "cell_type": "code",
   "execution_count": null,
   "id": "5da946e1-ac12-4b9c-b5b2-40c91612a0fa",
   "metadata": {},
   "outputs": [],
   "source": []
  },
  {
   "cell_type": "markdown",
   "id": "1ee8c2f7-b558-4dcd-b07f-dbae4d586ddf",
   "metadata": {},
   "source": [
    "### 1.5 Missing Value Ratio"
   ]
  },
  {
   "cell_type": "code",
   "execution_count": null,
   "id": "4d7776d0-0212-4df7-a2ef-7b3fcc835d47",
   "metadata": {},
   "outputs": [],
   "source": [
    "df_missing_train = pd.DataFrame(data = df_train.isna().sum(), columns = ['# of Missing Value'])\n",
    "df_missing_train['% of Missing Value'] = round(df_train.isna().sum() /df_train.shape[0] *100,2)\n",
    "print('train dataset missing count/rate:\\n')\n",
    "display(df_missing_train)"
   ]
  },
  {
   "cell_type": "code",
   "execution_count": null,
   "id": "d2c2c68a-2222-4038-83e6-c4916ae414d5",
   "metadata": {},
   "outputs": [],
   "source": [
    "df_missing_test = pd.DataFrame(data = df_test.isna().sum(), columns = ['# of Missing Value'])\n",
    "df_missing_test['% of Missing Value'] = round(df_test.isna().sum() /df_test.shape[0] *100,2)\n",
    "print('test dataset missing count/rate:\\n')\n",
    "display(df_missing_test)"
   ]
  },
  {
   "cell_type": "code",
   "execution_count": null,
   "id": "1a7e9727-3d45-49c8-b8f5-f436e1a2d4b1",
   "metadata": {},
   "outputs": [],
   "source": []
  },
  {
   "cell_type": "markdown",
   "id": "9e92d12c-8c96-4999-8469-e1ae85ae2db2",
   "metadata": {},
   "source": [
    "### 1.6 Cardinality of Data"
   ]
  },
  {
   "cell_type": "code",
   "execution_count": null,
   "id": "36d9f60e-08cd-42f1-bf7e-c4039ed5f4e9",
   "metadata": {},
   "outputs": [],
   "source": [
    "# Categorical Cardinality\n",
    "df_train[col_categorical].nunique()"
   ]
  },
  {
   "cell_type": "code",
   "execution_count": null,
   "id": "1276f81a-4ed2-45f9-9b8d-5e1339108968",
   "metadata": {},
   "outputs": [],
   "source": [
    "pd.unique(df_train['HomePlanet'])"
   ]
  },
  {
   "cell_type": "code",
   "execution_count": null,
   "id": "cf82700b-c1ac-4373-be62-ccbe16276e22",
   "metadata": {},
   "outputs": [],
   "source": [
    "pd.unique(df_train['Destination'])"
   ]
  },
  {
   "cell_type": "code",
   "execution_count": null,
   "id": "e088e1a8-fe77-4bb5-90b3-ca5f34b10d78",
   "metadata": {},
   "outputs": [],
   "source": [
    "df_test[col_categorical].nunique()"
   ]
  },
  {
   "cell_type": "code",
   "execution_count": null,
   "id": "74844773-f6ad-402d-9c67-0e802793ce7c",
   "metadata": {},
   "outputs": [],
   "source": []
  },
  {
   "cell_type": "markdown",
   "id": "001dc46f-ebe0-465a-955e-3f926e38f193",
   "metadata": {
    "tags": []
   },
   "source": [
    "## 2 EDA"
   ]
  },
  {
   "cell_type": "markdown",
   "id": "15c26640-2f29-4a84-8091-3a2f75200e2b",
   "metadata": {},
   "source": [
    "### 2.1 Balance of Label"
   ]
  },
  {
   "cell_type": "code",
   "execution_count": null,
   "id": "3be62dc8-7471-41b6-8bf0-b062cbe636e1",
   "metadata": {},
   "outputs": [],
   "source": [
    "df_label = df_train.groupby(col_label, as_index =True).size()"
   ]
  },
  {
   "cell_type": "code",
   "execution_count": null,
   "id": "a99542f1-418a-47de-a86b-45fe343dcd3f",
   "metadata": {},
   "outputs": [],
   "source": [
    "df_label"
   ]
  },
  {
   "cell_type": "code",
   "execution_count": null,
   "id": "ebc0e86f-4110-4785-8c32-3df32c0378d2",
   "metadata": {},
   "outputs": [],
   "source": [
    "plt.figure(figsize=(10,6))\n",
    "plt.pie(df_train[col_label].value_counts(),labels=df_train[col_label].value_counts().keys(),autopct=\"%1.1f%%\",\n",
    "       textprops={\"fontsize\":20,\"fontweight\":\"black\"},colors=sns.color_palette(\"Set2\"))\n",
    "plt.title(\"Label Distribution: {}\".format(col_label))"
   ]
  },
  {
   "cell_type": "markdown",
   "id": "47afe162-b6a2-42a0-b025-2c7eeadaf58f",
   "metadata": {},
   "source": [
    "### 2.2 Numeric Variables vs. Label"
   ]
  },
  {
   "cell_type": "code",
   "execution_count": null,
   "id": "7ecfe025-41fe-4193-a723-e2f9d68e6395",
   "metadata": {},
   "outputs": [],
   "source": [
    "col_numeric"
   ]
  },
  {
   "cell_type": "code",
   "execution_count": null,
   "id": "58681347-d7bf-4c93-9467-0be11baf80fd",
   "metadata": {},
   "outputs": [],
   "source": [
    "plt.figure(figsize=(14,10))\n",
    "l = len(col_numeric)\n",
    "n_bins = 30\n",
    "\n",
    "for idx,f in enumerate(col_numeric):\n",
    "    #print(idx, f)\n",
    "    plt.subplot(3,l//3+1,idx+1)\n",
    "    sns.histplot(x=f,hue=col_label,data=df_train,bins =n_bins,kde=True,multiple=\"dodge\")\n",
    "    plt.title(\"Feature Distribution: {}\".format(f))\n",
    "    plt.ylim(0, df_train.shape[0]/n_bins*3)\n",
    "    plt.tight_layout()"
   ]
  },
  {
   "cell_type": "code",
   "execution_count": null,
   "id": "51391420-f698-4ea3-8f92-b80b5b2375ea",
   "metadata": {},
   "outputs": [],
   "source": [
    "# Plot individual boxplots for each variable\n",
    "plt.figure(figsize=(12, 8))\n",
    "\n",
    "for idx,column in enumerate(col_numeric):\n",
    "    #print(idx, f)\n",
    "    plt.subplot(3,l//3+1,idx+1)\n",
    "    #plt.subplot(2, 3, df_train.columns.get_loc(column) + 1)\n",
    "    sns.boxplot(x=df_train[column])\n",
    "    plt.title(column)\n",
    "\n",
    "# Adjust layout\n",
    "plt.tight_layout()\n",
    "\n",
    "# Show the plot\n",
    "plt.show()"
   ]
  },
  {
   "cell_type": "code",
   "execution_count": null,
   "id": "200b6508-078f-424a-9df9-6f49e6d0ad57",
   "metadata": {},
   "outputs": [],
   "source": []
  },
  {
   "cell_type": "code",
   "execution_count": null,
   "id": "14365062-2f7a-4fbb-9590-505f6894bf82",
   "metadata": {},
   "outputs": [],
   "source": []
  },
  {
   "cell_type": "markdown",
   "id": "5f824f97-6ca3-467f-8b1f-5409bfae82eb",
   "metadata": {},
   "source": [
    "### 2.3 Categorical Variables vs. Label"
   ]
  },
  {
   "cell_type": "code",
   "execution_count": null,
   "id": "b7e05e79-bfdd-4cb7-9735-20f94f37903e",
   "metadata": {},
   "outputs": [],
   "source": [
    "df_cardinalitiy = df_train[col_categorical].nunique() "
   ]
  },
  {
   "cell_type": "code",
   "execution_count": null,
   "id": "9b83730d-2fa0-4f62-a3b7-45b0fc01ffa9",
   "metadata": {},
   "outputs": [],
   "source": [
    "df_cardinalitiy"
   ]
  },
  {
   "cell_type": "code",
   "execution_count": null,
   "id": "1062980f-cb3c-4a3d-91b7-476c96ac7850",
   "metadata": {},
   "outputs": [],
   "source": [
    "col_card_less_than10 = df_cardinalitiy[df_cardinalitiy<=10].index.tolist()"
   ]
  },
  {
   "cell_type": "code",
   "execution_count": null,
   "id": "d8da0476-2eb5-48c1-8be9-7e0f888d6e0a",
   "metadata": {},
   "outputs": [],
   "source": [
    "col_categorical_less10 = list(set(col_categorical) & set(col_card_less_than10))"
   ]
  },
  {
   "cell_type": "code",
   "execution_count": null,
   "id": "bd1694ce-5f90-4f4b-9ea2-07b7becf6cd0",
   "metadata": {},
   "outputs": [],
   "source": [
    "col_categorical"
   ]
  },
  {
   "cell_type": "code",
   "execution_count": null,
   "id": "b1621b6d-c2ba-4e5a-affd-cdbfd7d39f62",
   "metadata": {},
   "outputs": [],
   "source": [
    "col_categorical_less10"
   ]
  },
  {
   "cell_type": "code",
   "execution_count": null,
   "id": "931edcf3-d6fb-499e-9af5-6be2cb1850ba",
   "metadata": {},
   "outputs": [],
   "source": [
    "l = len(col_categorical_less10)\n",
    "\n",
    "plt.figure(figsize=(12,8))\n",
    "for idx,column in enumerate(col_categorical_less10):\n",
    "    plt.subplot(l//2+1,2,idx+1)\n",
    "    sns.countplot(x=column, hue=col_label, data=df_train)\n",
    "    plt.title(\"Feature Distribution: {}\".format(column))\n",
    "    plt.tight_layout()"
   ]
  },
  {
   "cell_type": "code",
   "execution_count": null,
   "id": "7eae4a85-713a-4d29-a2a6-5fe5026c17dc",
   "metadata": {},
   "outputs": [],
   "source": []
  },
  {
   "cell_type": "markdown",
   "id": "26ab466a-577b-47be-9ba9-9e475bcbdf26",
   "metadata": {},
   "source": [
    "### 2.4 Correlation"
   ]
  },
  {
   "cell_type": "code",
   "execution_count": null,
   "id": "1c28ea59-b65d-48a3-b88e-0acbcee7e667",
   "metadata": {},
   "outputs": [],
   "source": [
    "plt.figure(figsize=(10, 6))\n",
    "heatmap = sns.heatmap(df_train.corr())\n",
    "heatmap.set_title('Correlation Heatmap', fontdict={'fontsize':12},pad=12)"
   ]
  },
  {
   "cell_type": "code",
   "execution_count": null,
   "id": "a34b11e9-e25c-4ce9-b1e2-3cd53a59d41c",
   "metadata": {},
   "outputs": [],
   "source": []
  },
  {
   "cell_type": "markdown",
   "id": "daa0d8da-34a2-4251-880a-9ead6ee0f145",
   "metadata": {},
   "source": [
    "## 3 Feature Engineering"
   ]
  },
  {
   "cell_type": "markdown",
   "id": "a018cc16-88cc-4f69-9e5c-143275a4dcb5",
   "metadata": {},
   "source": [
    "### 3.0 Preprocessing data: Cabin"
   ]
  },
  {
   "cell_type": "code",
   "execution_count": null,
   "id": "bdd3d3b2-bf6a-4618-a260-a980026e76d8",
   "metadata": {},
   "outputs": [],
   "source": [
    "df_train_c = df_train.copy()\n",
    "df_train_c['Cabin_1'] = df_train_c.apply(lambda x : x['Cabin'].split('/')[0] if isinstance(x['Cabin'], str) else np.nan, axis=1)\n",
    "df_train_c['Cabin_2'] = df_train_c.apply(lambda x : int(x['Cabin'].split('/')[1]) if isinstance(x['Cabin'], str) else np.nan, axis=1)\n",
    "df_train_c['Cabin_3'] = df_train_c.apply(lambda x : x['Cabin'].split('/')[2] if isinstance(x['Cabin'], str) else np.nan, axis=1)"
   ]
  },
  {
   "cell_type": "code",
   "execution_count": null,
   "id": "019f0cc8-66d0-4789-af7b-38e6a03fad3a",
   "metadata": {},
   "outputs": [],
   "source": [
    "df_train_c"
   ]
  },
  {
   "cell_type": "code",
   "execution_count": null,
   "id": "5131cd4a-af5a-4273-ade1-034639d6945c",
   "metadata": {},
   "outputs": [],
   "source": [
    "## Additional Visuals\n",
    "\n",
    "plt.figure(figsize=(8,4))\n",
    "for idx,column in enumerate(['Cabin_1','Cabin_3']):\n",
    "    plt.subplot(1,2,idx+1)\n",
    "    sns.countplot(x=column, hue=col_label, data=df_train_c)\n",
    "    plt.title(\"Feature Distribution: {}\".format(column))\n",
    "    plt.tight_layout()"
   ]
  },
  {
   "cell_type": "code",
   "execution_count": null,
   "id": "43b5d4b2-c682-4ff2-9ce1-76c1726d17e3",
   "metadata": {},
   "outputs": [],
   "source": []
  },
  {
   "cell_type": "code",
   "execution_count": null,
   "id": "2c9efa62-b5a9-4a1c-af2e-2a2657761cad",
   "metadata": {},
   "outputs": [],
   "source": [
    "plt.figure(figsize=(5,3))\n",
    "\n",
    "n_bins = 30\n",
    "\n",
    "for idx,f in enumerate(['Cabin_2']):\n",
    "    sns.histplot(x=f,hue=col_label,data=df_train_c,bins =n_bins,kde=True)\n",
    "    plt.title(\"Feature Distribution: {}\".format(f))\n",
    "    # plt.ylim(0, df_train.shape[0]/n_bins)\n",
    "    plt.tight_layout()"
   ]
  },
  {
   "cell_type": "code",
   "execution_count": null,
   "id": "18e91673-5b3b-4ec8-8f1c-598e4bdfc340",
   "metadata": {},
   "outputs": [],
   "source": []
  },
  {
   "cell_type": "code",
   "execution_count": null,
   "id": "947fa754-9f58-4d61-a1bc-886b71d47b93",
   "metadata": {},
   "outputs": [],
   "source": []
  },
  {
   "cell_type": "code",
   "execution_count": null,
   "id": "2322989f-55c6-4c6e-8b37-f5839ef87c9f",
   "metadata": {},
   "outputs": [],
   "source": [
    "df_test_c = df_test.copy()\n",
    "df_test_c['Cabin_1'] = df_test_c.apply(lambda x : x['Cabin'].split('/')[0] if isinstance(x['Cabin'], str) else np.nan, axis=1)\n",
    "df_test_c['Cabin_2'] = df_test_c.apply(lambda x : int(x['Cabin'].split('/')[1]) if isinstance(x['Cabin'], str) else np.nan, axis=1)\n",
    "df_test_c['Cabin_3'] = df_test_c.apply(lambda x : x['Cabin'].split('/')[2] if isinstance(x['Cabin'], str) else np.nan, axis=1)"
   ]
  },
  {
   "cell_type": "code",
   "execution_count": null,
   "id": "40c4a340-05f6-4e2c-84f9-564858af88d4",
   "metadata": {},
   "outputs": [],
   "source": [
    "col_c = df_train_c.columns.tolist()"
   ]
  },
  {
   "cell_type": "code",
   "execution_count": null,
   "id": "4733a7c9-f0a1-467b-b632-42f1e3cfef66",
   "metadata": {},
   "outputs": [],
   "source": [
    "col_label_c = col_label"
   ]
  },
  {
   "cell_type": "code",
   "execution_count": null,
   "id": "f61c0002-2252-4862-a2fd-9d54d973b3eb",
   "metadata": {},
   "outputs": [],
   "source": [
    "col_numeric_c = df_train_c._get_numeric_data().columns.tolist()\n",
    "col_numeric_c.remove(col_label_c)"
   ]
  },
  {
   "cell_type": "code",
   "execution_count": null,
   "id": "9db96fe4-4f10-42d6-841c-9fbf867b95c0",
   "metadata": {},
   "outputs": [],
   "source": [
    "col_categorical_c = list(set(col_c) - set(col_numeric_c) - set(col_label_c))\n",
    "col_categorical_c.remove(col_label_c)"
   ]
  },
  {
   "cell_type": "code",
   "execution_count": null,
   "id": "9f3cc1af-bb8c-4ad4-b089-332bcb041fca",
   "metadata": {},
   "outputs": [],
   "source": []
  },
  {
   "cell_type": "code",
   "execution_count": null,
   "id": "9c2f9ea7-3a12-49e1-b46f-60f85b7c4bea",
   "metadata": {},
   "outputs": [],
   "source": [
    "df_train_c.to_csv('dataset_train_cabin.csv',index=False)"
   ]
  },
  {
   "cell_type": "code",
   "execution_count": null,
   "id": "ef9d18c0-9355-4f8e-af67-f906f8dac7ea",
   "metadata": {},
   "outputs": [],
   "source": [
    "df_test_c.to_csv('dataset_test_cabin.csv',index=False)"
   ]
  },
  {
   "cell_type": "markdown",
   "id": "3f46816c-c839-458b-9e84-a93cd955c4da",
   "metadata": {},
   "source": [
    "### 3.1 Fill in Null Value (Model Method, revisit)"
   ]
  },
  {
   "cell_type": "code",
   "execution_count": null,
   "id": "b83f2586-17ff-4ba3-8945-75b7166562a3",
   "metadata": {},
   "outputs": [],
   "source": [
    "## Numeric variable: \n",
    "## Categorical variable: mode"
   ]
  },
  {
   "cell_type": "code",
   "execution_count": null,
   "id": "1ba78c43-41db-4e9c-92d2-a75f6ef407d5",
   "metadata": {},
   "outputs": [],
   "source": [
    "def fillInNull(df_train_tmp, df_test_tmp,col_num, col_cat):\n",
    "    df_skew_tmp = df_train_tmp[col_num].skew()\n",
    "    col_lst_mean = df_skew_tmp[abs(df_skew_tmp)<=3].index.tolist()\n",
    "    col_lst_median = df_skew_tmp[abs(df_skew_tmp)>3].index.tolist()\n",
    "    \n",
    "    ## mean \n",
    "    for col in col_lst_mean:\n",
    "        value_mean = df_train_tmp[col].mean()\n",
    "        df_train_tmp[col].fillna(value=value_mean, inplace=True)\n",
    "        df_test_tmp[col].fillna(value=value_mean, inplace=True)\n",
    "        \n",
    "    ## median\n",
    "    for col in col_lst_median:\n",
    "        value_median = df_train_tmp[col].mean()\n",
    "        df_train_tmp[col].fillna(value=value_median, inplace=True)\n",
    "        df_test_tmp[col].fillna(value=value_median, inplace=True)\n",
    "        \n",
    "    ## most frequent\n",
    "    for col in col_cat:\n",
    "        value_mode = df_train_tmp.value_counts(col,ascending=False).index[0]\n",
    "        df_train_tmp[col].fillna(value=value_mode, inplace=True)\n",
    "        df_test_tmp[col].fillna(value=value_mode, inplace=True)\n",
    "    \n",
    "    return df_train_tmp, df_test_tmp"
   ]
  },
  {
   "cell_type": "code",
   "execution_count": null,
   "id": "041bd876-a677-4a60-a8c5-3b1bc2bb6851",
   "metadata": {},
   "outputs": [],
   "source": [
    "df_train_opt, df_test_opt = fillInNull(df_train_c, df_test_c,col_numeric_c, col_categorical_c )"
   ]
  },
  {
   "cell_type": "code",
   "execution_count": null,
   "id": "071c99a0-e656-4a6a-9c75-58140a77a216",
   "metadata": {},
   "outputs": [],
   "source": [
    "# Check how many missing value\n",
    "df_train_opt.isna().sum().sum()"
   ]
  },
  {
   "cell_type": "code",
   "execution_count": null,
   "id": "8457d121-78d1-4bfc-acac-d50fc753a90a",
   "metadata": {},
   "outputs": [],
   "source": []
  },
  {
   "cell_type": "code",
   "execution_count": null,
   "id": "4fbd3267-368e-42d2-b000-345a73a1cde8",
   "metadata": {},
   "outputs": [],
   "source": [
    "df_train_opt"
   ]
  },
  {
   "cell_type": "code",
   "execution_count": null,
   "id": "76954702-5b81-4ed0-8e30-b1a0cecfb314",
   "metadata": {},
   "outputs": [],
   "source": [
    "col_numeric_c"
   ]
  },
  {
   "cell_type": "code",
   "execution_count": null,
   "id": "358e0da0-70c3-4655-8978-e43cd624cf01",
   "metadata": {},
   "outputs": [],
   "source": [
    "col_categorical_c"
   ]
  },
  {
   "cell_type": "code",
   "execution_count": null,
   "id": "c29abe37-3843-4384-9344-9a533464e205",
   "metadata": {},
   "outputs": [],
   "source": []
  },
  {
   "cell_type": "code",
   "execution_count": null,
   "id": "309db4bc-c032-4aac-a03d-ea933c5a0a45",
   "metadata": {},
   "outputs": [],
   "source": []
  },
  {
   "cell_type": "markdown",
   "id": "0ed5ca4c-4f68-4e28-96d3-fe2e90a7b7b2",
   "metadata": {},
   "source": [
    "### 3.2 Get 0/1 for True/False Variable"
   ]
  },
  {
   "cell_type": "code",
   "execution_count": null,
   "id": "09a1197b-65d8-45b6-bf00-498fbe28682b",
   "metadata": {},
   "outputs": [],
   "source": [
    "df_train_c.head()"
   ]
  },
  {
   "cell_type": "code",
   "execution_count": null,
   "id": "09ba1210-a33a-4b06-8c26-f4626a5193f9",
   "metadata": {},
   "outputs": [],
   "source": [
    "df_train_c.replace({True: 1, False: 0}, inplace = True)"
   ]
  },
  {
   "cell_type": "code",
   "execution_count": null,
   "id": "0ca0fbcf-2922-48cb-a265-d66f07711075",
   "metadata": {},
   "outputs": [],
   "source": [
    "df_test_c.replace({True: 1, False: 0}, inplace = True)"
   ]
  },
  {
   "cell_type": "code",
   "execution_count": null,
   "id": "4d81b0c6-6712-4924-a764-83b973c56138",
   "metadata": {},
   "outputs": [],
   "source": [
    "df_train_c.head()"
   ]
  },
  {
   "cell_type": "markdown",
   "id": "4b8b182f-9ac4-4ed5-9f88-18d99d22e5b2",
   "metadata": {},
   "source": [
    "### 3.3 One-hot Encoding for Multi-class Variables"
   ]
  },
  {
   "cell_type": "code",
   "execution_count": null,
   "id": "b927ea1d-876c-4115-8ff9-d5937653e4f2",
   "metadata": {},
   "outputs": [],
   "source": [
    "col_categorical_less10 = col_categorical_less10 + ['Cabin_1','Cabin_3']\n",
    "col_categorical_less10"
   ]
  },
  {
   "cell_type": "code",
   "execution_count": null,
   "id": "c7f55d92-2bef-4074-aa96-8b83d432894c",
   "metadata": {},
   "outputs": [],
   "source": [
    "df_train_c_encoding = df_train_c.copy()\n",
    "df_test_c_encoding = df_test_c.copy()"
   ]
  },
  {
   "cell_type": "code",
   "execution_count": null,
   "id": "3a9fdfb4-58f6-4285-9223-a0f02b38d354",
   "metadata": {},
   "outputs": [],
   "source": [
    "for col in col_categorical_less10:\n",
    "    df_tmp = pd.get_dummies(df_train_c_encoding[col], prefix = col)\n",
    "    df_train_c_encoding = pd.concat([df_train_c_encoding,df_tmp.iloc[:,:-1]] , axis = 1)\n",
    "    df_train_c_encoding.drop(col,1, inplace = True)\n",
    "\n",
    "    df_tmp = pd.get_dummies(df_test_c_encoding[col], prefix = col)\n",
    "    df_test_c_encoding = pd.concat([df_test_c_encoding,df_tmp.iloc[:,:-1]] , axis = 1)\n",
    "    df_test_c_encoding.drop(col,1, inplace = True)\n",
    "    "
   ]
  },
  {
   "cell_type": "code",
   "execution_count": null,
   "id": "2399332d-fc08-4309-b024-c42a7e7107ca",
   "metadata": {},
   "outputs": [],
   "source": [
    "col_categorical_less10"
   ]
  },
  {
   "cell_type": "code",
   "execution_count": null,
   "id": "b22ac948-7ff6-4dbd-b091-6f16e8318f5d",
   "metadata": {},
   "outputs": [],
   "source": [
    "df_train_c_encoding.columns"
   ]
  },
  {
   "cell_type": "code",
   "execution_count": null,
   "id": "00bcff8c-d27b-4c99-982a-3815acbc1c6e",
   "metadata": {},
   "outputs": [],
   "source": [
    "df_test_c_encoding.columns"
   ]
  },
  {
   "cell_type": "markdown",
   "id": "75da79fb-dc38-4058-93b5-9854a4ddfeb7",
   "metadata": {},
   "source": [
    "### 3.4 Feature Scaling for Numeric Variables"
   ]
  },
  {
   "cell_type": "code",
   "execution_count": null,
   "id": "4de621a8-5ab4-434b-bf01-4872faffba16",
   "metadata": {},
   "outputs": [],
   "source": [
    "col_numeric_c"
   ]
  },
  {
   "cell_type": "code",
   "execution_count": null,
   "id": "7f25a371-ae90-489b-90e5-32b992830630",
   "metadata": {},
   "outputs": [],
   "source": [
    "from sklearn.preprocessing import StandardScaler\n",
    "sc = StandardScaler()"
   ]
  },
  {
   "cell_type": "code",
   "execution_count": null,
   "id": "ae6a304f-1f0a-4ef0-a442-698c50643b04",
   "metadata": {},
   "outputs": [],
   "source": [
    "df_train_c_encoding_scale = df_train_c_encoding.copy()\n",
    "df_test_c_encoding_scale = df_test_c_encoding.copy()"
   ]
  },
  {
   "cell_type": "code",
   "execution_count": null,
   "id": "35323694-28af-4709-bd92-bad1d7407b82",
   "metadata": {},
   "outputs": [],
   "source": [
    "df_train_c_encoding_scale[col_numeric_c] = sc.fit_transform(df_train_c_encoding_scale[col_numeric_c])\n"
   ]
  },
  {
   "cell_type": "code",
   "execution_count": null,
   "id": "485fa380-5e96-4b1c-8e1b-ec05c0ad5c32",
   "metadata": {},
   "outputs": [],
   "source": [
    "df_test_c_encoding_scale[col_numeric_c] = sc.transform(df_test_c_encoding_scale[col_numeric_c])"
   ]
  },
  {
   "cell_type": "code",
   "execution_count": null,
   "id": "050c6070-fb8c-4f1e-bb52-edcefe345dd9",
   "metadata": {},
   "outputs": [],
   "source": [
    "col_numeric_c"
   ]
  },
  {
   "cell_type": "code",
   "execution_count": null,
   "id": "ddb9832f-5aae-46b2-8081-f9deca92a180",
   "metadata": {},
   "outputs": [],
   "source": [
    "col_categorical_c"
   ]
  },
  {
   "cell_type": "code",
   "execution_count": null,
   "id": "eed2b79f-a0e5-4b8e-9b44-27033b9d094d",
   "metadata": {},
   "outputs": [],
   "source": [
    "df_train_c_encoding_scale.columns"
   ]
  },
  {
   "cell_type": "code",
   "execution_count": null,
   "id": "d6557a6f-642a-4e3d-974f-03495086a63c",
   "metadata": {},
   "outputs": [],
   "source": [
    "col_label = col_label\n",
    "col_drop = ['PassengerId', 'Cabin','Name','Transported']"
   ]
  },
  {
   "cell_type": "code",
   "execution_count": null,
   "id": "6b4a971a-3300-421c-9d3f-b327bda15502",
   "metadata": {},
   "outputs": [],
   "source": []
  },
  {
   "cell_type": "code",
   "execution_count": null,
   "id": "dabe95c3-e490-4db9-a673-269736e737eb",
   "metadata": {},
   "outputs": [],
   "source": []
  },
  {
   "cell_type": "code",
   "execution_count": null,
   "id": "4a0744e4-fb6e-4dc1-a38b-148ccbe4cfce",
   "metadata": {},
   "outputs": [],
   "source": []
  },
  {
   "cell_type": "code",
   "execution_count": null,
   "id": "bdfe7ae8-9632-44a4-bde5-1fef473a51f5",
   "metadata": {},
   "outputs": [],
   "source": [
    "# df_train_c_encoding_scale.to_csv('dataset_train_final.csv', index =False)\n",
    "# df_test_c_encoding_scale.to_csv('dataset_test_final.csv', index =False)"
   ]
  },
  {
   "cell_type": "code",
   "execution_count": null,
   "id": "bdbecb76-6190-483a-8153-0b82206d3de3",
   "metadata": {},
   "outputs": [],
   "source": []
  },
  {
   "cell_type": "code",
   "execution_count": null,
   "id": "a2b22395-ab4d-4052-8ed8-e5fea5292496",
   "metadata": {},
   "outputs": [],
   "source": [
    "df_train_c_encoding_scale = pd.read_csv('dataset_train_final.csv')\n",
    "df_test_c_encoding_scale = pd.read_csv('dataset_test_final.csv')"
   ]
  },
  {
   "cell_type": "code",
   "execution_count": null,
   "id": "de87da83-a54e-463a-9570-4510257361cd",
   "metadata": {},
   "outputs": [],
   "source": [
    "df_sample = df_train_c.copy()"
   ]
  },
  {
   "cell_type": "code",
   "execution_count": null,
   "id": "858851c8-6e85-48d8-8417-b940c518de25",
   "metadata": {},
   "outputs": [],
   "source": [
    "df_sample.head()"
   ]
  },
  {
   "cell_type": "code",
   "execution_count": null,
   "id": "10ed7b17-58e3-43bd-b117-cfa120757636",
   "metadata": {},
   "outputs": [],
   "source": [
    "df_sample.groupby('Cabin_1', as_index = False).agg({'Age':'mean','FoodCourt':['sum','mean']})"
   ]
  },
  {
   "cell_type": "code",
   "execution_count": null,
   "id": "83171811-bb5d-4e5e-81c9-d927fef9b0ca",
   "metadata": {},
   "outputs": [],
   "source": []
  },
  {
   "cell_type": "code",
   "execution_count": null,
   "id": "e6a85f02-a782-42f5-bab4-c68d6b4c90f4",
   "metadata": {},
   "outputs": [],
   "source": [
    "X.columns"
   ]
  },
  {
   "cell_type": "code",
   "execution_count": null,
   "id": "ccf149e9-36cb-40da-99d8-854babd110f4",
   "metadata": {},
   "outputs": [],
   "source": [
    "X_report.columns"
   ]
  },
  {
   "cell_type": "markdown",
   "id": "639dfe6a-8596-4927-b21b-70a6a6a4cefb",
   "metadata": {},
   "source": [
    "### 3.5 Train/Validation/Test Split"
   ]
  },
  {
   "cell_type": "code",
   "execution_count": null,
   "id": "ac071ffe-1821-4745-8217-3457661676fe",
   "metadata": {},
   "outputs": [],
   "source": [
    "col_drop = ['PassengerId', 'Cabin','Name','Transported']\n",
    "col_label = 'Transported'"
   ]
  },
  {
   "cell_type": "code",
   "execution_count": null,
   "id": "7b7dc802-aeee-4ae3-a9eb-8510fa53d33d",
   "metadata": {},
   "outputs": [],
   "source": [
    "y = df_train_c_encoding_scale[col_label]\n",
    "X = df_train_c_encoding_scale.drop(col_drop, 1)\n",
    "X_report = df_test_c_encoding_scale.drop(['PassengerId','Cabin','Name'],1)"
   ]
  },
  {
   "cell_type": "code",
   "execution_count": null,
   "id": "8c7144bb-5f62-4e44-a506-2c5e57308e92",
   "metadata": {},
   "outputs": [],
   "source": [
    "from sklearn.model_selection import train_test_split"
   ]
  },
  {
   "cell_type": "code",
   "execution_count": null,
   "id": "1811ecb2-c891-430f-bcf3-ada035023e15",
   "metadata": {},
   "outputs": [],
   "source": [
    "X_train, X_test, y_train, y_test \\\n",
    "    = train_test_split(X, y, test_size=0.2, random_state=1)\n",
    "\n",
    "X_train, X_val, y_train, y_val \\\n",
    "    = train_test_split(X_train, y_train, test_size=0.25, random_state=1) # 0.25 x 0.8 = 0.2"
   ]
  },
  {
   "cell_type": "code",
   "execution_count": null,
   "id": "13358702-d238-4537-9b47-42c481ad070c",
   "metadata": {},
   "outputs": [],
   "source": []
  },
  {
   "cell_type": "code",
   "execution_count": null,
   "id": "5e9d1ca5-89fd-4721-a9f0-f988708a45dd",
   "metadata": {},
   "outputs": [],
   "source": []
  },
  {
   "cell_type": "code",
   "execution_count": null,
   "id": "3f7feb81-d6e1-4cc8-955d-b7cbe4f81768",
   "metadata": {},
   "outputs": [],
   "source": [
    "X_train"
   ]
  },
  {
   "cell_type": "code",
   "execution_count": null,
   "id": "805ccf0d-cb76-495c-9c25-3227a137f457",
   "metadata": {},
   "outputs": [],
   "source": [
    "y_train"
   ]
  },
  {
   "cell_type": "markdown",
   "id": "6925da74-3aad-4834-b96b-25ff62f17595",
   "metadata": {
    "tags": []
   },
   "source": [
    "## 4 Model Training"
   ]
  },
  {
   "cell_type": "code",
   "execution_count": null,
   "id": "c4c7f22b-8f3b-4798-a515-acbd0b6d473a",
   "metadata": {},
   "outputs": [],
   "source": [
    "from sklearn import metrics \n",
    "from sklearn.model_selection import RandomizedSearchCV, train_test_split\n",
    "from sklearn.metrics import accuracy_score, confusion_matrix\n",
    "from scipy.stats import uniform, randint"
   ]
  },
  {
   "cell_type": "code",
   "execution_count": null,
   "id": "cd56c6f4-a140-4310-bfc6-ee6684a323b4",
   "metadata": {},
   "outputs": [],
   "source": [
    "col_output = ['accuracy','precision','recall','f1score','auc','ckscore']"
   ]
  },
  {
   "cell_type": "code",
   "execution_count": null,
   "id": "56693259-9aad-48ab-a1db-c20e76d421ba",
   "metadata": {},
   "outputs": [],
   "source": [
    "def mlEvaluationMetrics(y_true, y_pred, y_proba):\n",
    "    accuracy = metrics.accuracy_score(y_true, y_pred)\n",
    "    precision = metrics.precision_score(y_true, y_pred)\n",
    "    recall = metrics.recall_score(y_true, y_pred)\n",
    "    f1score = metrics.f1_score(y_true, y_pred)\n",
    "    auc = metrics.roc_auc_score(y_true, y_proba)\n",
    "    ckscore = metrics.cohen_kappa_score(y_true, y_pred)\n",
    "    return [accuracy,precision,recall,f1score,auc,ckscore]"
   ]
  },
  {
   "cell_type": "code",
   "execution_count": null,
   "id": "3ed15daf-261b-4223-9d79-1494e30278e0",
   "metadata": {},
   "outputs": [],
   "source": []
  },
  {
   "cell_type": "code",
   "execution_count": null,
   "id": "3e4c2c70-88a1-4daa-bc22-50c02471da0c",
   "metadata": {},
   "outputs": [],
   "source": []
  },
  {
   "cell_type": "markdown",
   "id": "c0d2f574-53e5-4cf1-b698-b80d52c703c4",
   "metadata": {},
   "source": [
    "### 4.1 Logistic Regression"
   ]
  },
  {
   "cell_type": "code",
   "execution_count": null,
   "id": "1a6d1157-40e3-4f4b-bdd6-1e16e07141b5",
   "metadata": {},
   "outputs": [],
   "source": [
    "from sklearn.linear_model import LogisticRegression"
   ]
  },
  {
   "cell_type": "code",
   "execution_count": null,
   "id": "d2569e04-8e0e-4116-b591-918144690cb8",
   "metadata": {},
   "outputs": [],
   "source": [
    "LR = LogisticRegression()"
   ]
  },
  {
   "cell_type": "code",
   "execution_count": null,
   "id": "3b1657ab-1117-404a-b5dc-cb0692d82034",
   "metadata": {},
   "outputs": [],
   "source": [
    "LR.fit(X_train, y_train)"
   ]
  },
  {
   "cell_type": "code",
   "execution_count": null,
   "id": "11f5e1dd-1037-4f2a-bad5-e6243db7e777",
   "metadata": {},
   "outputs": [],
   "source": [
    "y_val_pred = LR.predict(X_val)\n",
    "y_val_proba = LR.predict_proba(X_val)[:, 1]\n",
    "\n",
    "y_train_pred = LR.predict(X_train)\n",
    "y_train_proba = LR.predict_proba(X_train)[:, 1]\n",
    "\n",
    "y_test_pred = LR.predict(X_test)\n",
    "y_test_proba = LR.predict_proba(X_test)[:, 1]"
   ]
  },
  {
   "cell_type": "code",
   "execution_count": null,
   "id": "1e50d08c-2086-47f2-b90d-180ba700c482",
   "metadata": {},
   "outputs": [],
   "source": [
    "output_train = mlEvaluationMetrics(y_train,y_train_pred,y_train_proba)\n",
    "\n",
    "output_val = mlEvaluationMetrics(y_val,y_val_pred,y_val_proba)\n",
    "\n",
    "output_test = mlEvaluationMetrics(y_test,y_test_pred,y_test_proba)\n",
    "\n",
    "arr = np.array([output_train,output_val,output_test])\n",
    "\n",
    "df_output = pd.DataFrame(data = arr, columns = col_output)\n",
    "\n",
    "df_output"
   ]
  },
  {
   "cell_type": "markdown",
   "id": "7da319f3-a51a-44fb-a893-c890ad80dceb",
   "metadata": {},
   "source": [
    "### 4.2 Random Forest"
   ]
  },
  {
   "cell_type": "code",
   "execution_count": null,
   "id": "3d00ae6e-c69b-4b45-b355-2228fe5886d0",
   "metadata": {},
   "outputs": [],
   "source": [
    "from sklearn.ensemble import RandomForestClassifier"
   ]
  },
  {
   "cell_type": "code",
   "execution_count": null,
   "id": "162a6c48-f159-490a-9f69-5fe09eaee921",
   "metadata": {},
   "outputs": [],
   "source": [
    "RF = RandomForestClassifier(n_estimators = 100)\n",
    "# max_depth, max_features, n_estimators"
   ]
  },
  {
   "cell_type": "code",
   "execution_count": null,
   "id": "156a89a2-3e71-4461-8e4a-c9137c31a257",
   "metadata": {},
   "outputs": [],
   "source": [
    "RF.fit(X_train, y_train)"
   ]
  },
  {
   "cell_type": "code",
   "execution_count": null,
   "id": "f6cfeead-240c-405a-8dbb-e31ea98c442e",
   "metadata": {},
   "outputs": [],
   "source": [
    "y_val_pred = RF.predict(X_val)\n",
    "y_val_proba = RF.predict_proba(X_val)[:, 1]\n",
    "\n",
    "y_train_pred = RF.predict(X_train)\n",
    "y_train_proba = RF.predict_proba(X_train)[:, 1]\n",
    "\n",
    "y_test_pred = RF.predict(X_test)\n",
    "y_test_proba = RF.predict_proba(X_test)[:, 1]"
   ]
  },
  {
   "cell_type": "code",
   "execution_count": null,
   "id": "482f2402-2140-43ee-b126-69716454e80e",
   "metadata": {},
   "outputs": [],
   "source": [
    "RF.feature_importances_"
   ]
  },
  {
   "cell_type": "code",
   "execution_count": null,
   "id": "63e3bed7-4dfb-4793-9e62-803fa9c77392",
   "metadata": {},
   "outputs": [],
   "source": [
    "RF.feature_names_in_"
   ]
  },
  {
   "cell_type": "code",
   "execution_count": null,
   "id": "022b4de2-2e63-4d0c-a10c-364fe949d16a",
   "metadata": {},
   "outputs": [],
   "source": [
    "lst_importance = list(zip(RF.feature_importances_.round(2), RF.feature_names_in_))"
   ]
  },
  {
   "cell_type": "code",
   "execution_count": null,
   "id": "ee92c7c2-6e9b-4454-9f14-564c5cc0f164",
   "metadata": {},
   "outputs": [],
   "source": [
    "sorted(lst_importance, key = lambda x : x[0] ,reverse = True)"
   ]
  },
  {
   "cell_type": "code",
   "execution_count": null,
   "id": "448ebcf8-78c9-4257-b7bb-084bf154b3a5",
   "metadata": {},
   "outputs": [],
   "source": []
  },
  {
   "cell_type": "code",
   "execution_count": null,
   "id": "637ab0c6-3fa6-44c9-bf20-f84d40bb2cac",
   "metadata": {},
   "outputs": [],
   "source": [
    "output_train = mlEvaluationMetrics(y_train,y_train_pred,y_train_proba)\n",
    "\n",
    "output_val = mlEvaluationMetrics(y_val,y_val_pred,y_val_proba)\n",
    "\n",
    "output_test = mlEvaluationMetrics(y_test,y_test_pred,y_test_proba)\n",
    "\n",
    "arr = np.array([output_train,output_val,output_test])\n",
    "\n",
    "df_output = pd.DataFrame(data = arr, columns = col_output)\n",
    "\n",
    "df_output"
   ]
  },
  {
   "cell_type": "markdown",
   "id": "2de642ba-34b0-4fec-87fa-6859d2bb0a73",
   "metadata": {},
   "source": [
    "#### 4.2.1 Parameter Tuning, Random Search"
   ]
  },
  {
   "cell_type": "code",
   "execution_count": null,
   "id": "02b70474-8c1b-48ce-88da-b6b77c06dc9b",
   "metadata": {},
   "outputs": [],
   "source": [
    "# Define XGBoost model and hyperparameters to tune\n",
    "RF_model = RandomForestClassifier()\n",
    "\n",
    "param_distributions = {\n",
    "    'n_estimators': np.arange(100, 1000, 100),\n",
    "    'max_depth': [5, 10, 15, 20, None],\n",
    "    'min_samples_split': np.arange(2, 11),\n",
    "    'min_samples_leaf': np.arange(1, 11)\n",
    "}\n",
    "random_search = RandomizedSearchCV(\n",
    "    RF_model,\n",
    "    param_distributions,\n",
    "    n_iter=50,  # Number of parameter settings that are sampled\n",
    "    cv=5,       # 5-fold cross-validation\n",
    "    n_jobs=-1,  # Use all available CPU cores\n",
    "    random_state=42\n",
    ")\n",
    "\n",
    "# Perform random search cross-validation to find the best hyperparameters\n",
    "#random_search = RandomizedSearchCV(xgb_model, param_distributions=param_dist, n_iter=10, cv=5, random_state=42, scoring='accuracy')\n",
    "random_search.fit(X_train, y_train)"
   ]
  },
  {
   "cell_type": "code",
   "execution_count": null,
   "id": "142d33b1-4475-4a5f-9355-4b1b6887b068",
   "metadata": {},
   "outputs": [],
   "source": [
    "# Print the best parameters and best score\n",
    "print(\"Best parameters: \", random_search.best_params_)\n",
    "print(\"Best score: \", random_search.best_score_)"
   ]
  },
  {
   "cell_type": "code",
   "execution_count": null,
   "id": "af2d2397-baa6-4470-9488-ab854f846423",
   "metadata": {},
   "outputs": [],
   "source": [
    "\n",
    "# Evaluate the best model on the testing set\n",
    "best_model = random_search.best_estimator_\n",
    "y_val_pred = best_model.predict(X_val)\n",
    "accuracy = metrics.accuracy_score(y_val, y_val_pred)\n",
    "confusion_mat = metrics.confusion_matrix(y_val, y_val_pred)\n",
    "\n",
    "print(\"Best hyperparameters: \", random_search.best_params_)\n",
    "print(\"Testing accuracy: \", accuracy)\n",
    "print(\"Confusion matrix: \", confusion_mat)"
   ]
  },
  {
   "cell_type": "code",
   "execution_count": null,
   "id": "8f555417-8806-4a86-95e8-f9bb1c4d2fa8",
   "metadata": {},
   "outputs": [],
   "source": [
    "y_val_pred = best_model.predict(X_val)\n",
    "y_val_proba = best_model.predict_proba(X_val)[:, 1]\n",
    "\n",
    "y_train_pred = best_model.predict(X_train)\n",
    "y_train_proba = best_model.predict_proba(X_train)[:, 1]\n",
    "\n",
    "y_test_pred = best_model.predict(X_test)\n",
    "y_test_proba = best_model.predict_proba(X_test)[:, 1]"
   ]
  },
  {
   "cell_type": "code",
   "execution_count": null,
   "id": "5cac70eb-fa19-46c2-8bd7-3dd216e6d2ae",
   "metadata": {},
   "outputs": [],
   "source": [
    "output_train = mlEvaluationMetrics(y_train,y_train_pred,y_train_proba)\n",
    "\n",
    "output_val = mlEvaluationMetrics(y_val,y_val_pred,y_val_proba)\n",
    "\n",
    "output_test = mlEvaluationMetrics(y_test,y_test_pred,y_test_proba)\n",
    "\n",
    "arr = np.array([output_train,output_val,output_test])\n",
    "\n",
    "df_output = pd.DataFrame(data = arr, columns = col_output)\n",
    "\n",
    "df_output"
   ]
  },
  {
   "cell_type": "code",
   "execution_count": null,
   "id": "22547902-bf18-4379-8d98-8699c1ae9db7",
   "metadata": {},
   "outputs": [],
   "source": [
    "lst_importance = list(zip(best_model.feature_importances_.round(2), best_model.feature_names_in_))\n",
    "sorted(lst_importance, key = lambda x:x[0], reverse =True)"
   ]
  },
  {
   "cell_type": "code",
   "execution_count": null,
   "id": "35bfb055-42f7-4626-afb0-cae7f32038d4",
   "metadata": {},
   "outputs": [],
   "source": [
    "y_pred_report = best_model.predict(X_report)\n",
    "df_output = df_test_c_encoding_scale.copy()\n",
    "df_output[col_label] = y_pred_report\n",
    "df_output.replace({1: True, 0:False}, inplace = True)\n",
    "df_output[['PassengerId',col_label]].to_csv('mysubmission_rf.csv',index =False)"
   ]
  },
  {
   "cell_type": "code",
   "execution_count": null,
   "id": "45c36fd5-856f-4fb6-b885-df6bd229f280",
   "metadata": {},
   "outputs": [],
   "source": []
  },
  {
   "cell_type": "code",
   "execution_count": null,
   "id": "22747ef3-fe91-4b81-bee8-fe25c649c3fa",
   "metadata": {},
   "outputs": [],
   "source": []
  },
  {
   "cell_type": "markdown",
   "id": "f87566be-5380-4b52-af89-d753a34daf70",
   "metadata": {},
   "source": [
    "### 4.3 XGBoost"
   ]
  },
  {
   "cell_type": "code",
   "execution_count": null,
   "id": "e035bee0-3f94-475c-ad09-3958630e41eb",
   "metadata": {},
   "outputs": [],
   "source": [
    "from xgboost import XGBClassifier"
   ]
  },
  {
   "cell_type": "code",
   "execution_count": null,
   "id": "1a6d6220-52fe-4f10-b78d-8d6caec03306",
   "metadata": {},
   "outputs": [],
   "source": [
    "XGB = XGBClassifier()\n",
    "XGB.fit(X_train, y_train)"
   ]
  },
  {
   "cell_type": "code",
   "execution_count": null,
   "id": "80701745-06f1-42f8-a226-330deac9bc0b",
   "metadata": {},
   "outputs": [],
   "source": []
  },
  {
   "cell_type": "code",
   "execution_count": null,
   "id": "2eed0d97-271a-4484-aa87-783550eed86d",
   "metadata": {},
   "outputs": [],
   "source": [
    "y_val_pred = XGB.predict(X_val)\n",
    "y_val_proba = XGB.predict_proba(X_val)[:, 1]\n",
    "\n",
    "y_train_pred = XGB.predict(X_train)\n",
    "y_train_proba = XGB.predict_proba(X_train)[:, 1]\n",
    "\n",
    "y_test_pred = XGB.predict(X_test)\n",
    "y_test_proba = XGB.predict_proba(X_test)[:, 1]"
   ]
  },
  {
   "cell_type": "code",
   "execution_count": null,
   "id": "b31c63aa-6b6b-4c42-a0ed-32e5ac4e9e0e",
   "metadata": {},
   "outputs": [],
   "source": [
    "output_train = mlEvaluationMetrics(y_train,y_train_pred,y_train_proba)\n",
    "\n",
    "output_val = mlEvaluationMetrics(y_val,y_val_pred,y_val_proba)\n",
    "\n",
    "output_test = mlEvaluationMetrics(y_test,y_test_pred,y_test_proba)\n",
    "\n",
    "arr = np.array([output_train,output_val,output_test])\n",
    "\n",
    "df_output = pd.DataFrame(data = arr, columns = col_output)\n",
    "\n",
    "df_output"
   ]
  },
  {
   "cell_type": "markdown",
   "id": "13ddf473-d061-4b12-8a1d-ce7077ac2074",
   "metadata": {},
   "source": [
    "#### 4.3.1 Parameter Tuning, Grid Search"
   ]
  },
  {
   "cell_type": "code",
   "execution_count": null,
   "id": "99be01ac-aa96-408e-810e-67c5d9fc803c",
   "metadata": {},
   "outputs": [],
   "source": [
    "from sklearn.model_selection import GridSearchCV\n",
    "# Define XGBoost model and hyperparameters to tune\n",
    "xgb_model = XGBClassifier()\n",
    "param_grid = {\n",
    "    'learning_rate': [0.1, 0.2, 0.3],\n",
    "    'max_depth': [3, 4, 5],\n",
    "    'n_estimators': [50, 100, 150],\n",
    "    'min_child_weight': [1, 3, 5]\n",
    "}\n",
    "\n",
    "# Perform grid search cross-validation to find the best hyperparameters\n",
    "grid_search = GridSearchCV(xgb_model, param_grid, cv=5, scoring='accuracy')\n",
    "grid_search.fit(X_train, y_train)"
   ]
  },
  {
   "cell_type": "code",
   "execution_count": null,
   "id": "49123e09-7239-42bf-9488-d7e75b62cf40",
   "metadata": {},
   "outputs": [],
   "source": [
    "\n",
    "# Evaluate the best model on the testing set\n",
    "best_model = grid_search.best_estimator_\n",
    "y_val_pred = best_model.predict(X_val)\n",
    "accuracy = metrics.accuracy_score(y_val, y_val_pred)\n",
    "confusion_mat = metrics.confusion_matrix(y_val, y_val_pred)\n",
    "\n",
    "print(\"Best hyperparameters: \", grid_search.best_params_)\n",
    "print(\"Testing accuracy: \", accuracy)\n",
    "print(\"Confusion matrix: \", confusion_mat)"
   ]
  },
  {
   "cell_type": "markdown",
   "id": "da2b3585-8344-4c0f-b89d-6177fb30a080",
   "metadata": {},
   "source": [
    "#### 4.3.1 Parameter Tuning, Random Search"
   ]
  },
  {
   "cell_type": "code",
   "execution_count": null,
   "id": "b60bb9ee-ee2d-4be6-82b7-2defcd1a7b35",
   "metadata": {},
   "outputs": [],
   "source": []
  },
  {
   "cell_type": "code",
   "execution_count": null,
   "id": "80bd6d47-7c28-478f-94e1-0fed32db5ea2",
   "metadata": {},
   "outputs": [],
   "source": [
    "# Define XGBoost model and hyperparameters to tune\n",
    "xgb_model = XGBClassifier()\n",
    "param_dist = {\n",
    "    'learning_rate': uniform(0.1, 0.3),\n",
    "    'max_depth': randint(3, 6),\n",
    "    'n_estimators': randint(50, 150),\n",
    "    'min_child_weight': randint(1, 6)\n",
    "}\n",
    "\n",
    "# Perform random search cross-validation to find the best hyperparameters\n",
    "random_search = RandomizedSearchCV(xgb_model, param_distributions=param_dist, n_iter=10, cv=5, random_state=42, scoring='accuracy')\n",
    "random_search.fit(X_train, y_train)"
   ]
  },
  {
   "cell_type": "code",
   "execution_count": null,
   "id": "6795a7ed-594f-420f-a382-04d5ecf92713",
   "metadata": {},
   "outputs": [],
   "source": [
    "\n",
    "# Evaluate the best model on the testing set\n",
    "best_model = random_search.best_estimator_\n",
    "y_val_pred = best_model.predict(X_val)\n",
    "accuracy = metrics.accuracy_score(y_val, y_val_pred)\n",
    "confusion_mat = metrics.confusion_matrix(y_val, y_val_pred)\n",
    "\n",
    "print(\"Best hyperparameters: \", random_search.best_params_)\n",
    "print(\"Testing accuracy: \", accuracy)\n",
    "print(\"Confusion matrix: \", confusion_mat)"
   ]
  },
  {
   "cell_type": "code",
   "execution_count": null,
   "id": "9047fd19-3160-4d9c-96b2-b7e95e0e991e",
   "metadata": {},
   "outputs": [],
   "source": []
  },
  {
   "cell_type": "code",
   "execution_count": null,
   "id": "45e27c26-d17e-470d-ad83-c9e1975b7159",
   "metadata": {},
   "outputs": [],
   "source": [
    "lst_importance = list(zip(best_model.feature_importances_.round(2), best_model.feature_names_in_))\n",
    "sorted(lst_importance, key = lambda x:x[0], reverse =True)"
   ]
  },
  {
   "cell_type": "code",
   "execution_count": null,
   "id": "cd4f0538-7a88-492a-bc70-73b64a63d720",
   "metadata": {},
   "outputs": [],
   "source": [
    "y_val_pred = best_model.predict(X_val)\n",
    "y_val_proba = best_model.predict_proba(X_val)[:, 1]\n",
    "\n",
    "y_train_pred = best_model.predict(X_train)\n",
    "y_train_proba = best_model.predict_proba(X_train)[:, 1]\n",
    "\n",
    "y_test_pred = best_model.predict(X_test)\n",
    "y_test_proba = best_model.predict_proba(X_test)[:, 1]"
   ]
  },
  {
   "cell_type": "code",
   "execution_count": null,
   "id": "b1fa806d-56ab-4a5a-a9a4-f37ec3f08e44",
   "metadata": {},
   "outputs": [],
   "source": [
    "output_train = mlEvaluationMetrics(y_train,y_train_pred,y_train_proba)\n",
    "\n",
    "output_val = mlEvaluationMetrics(y_val,y_val_pred,y_val_proba)\n",
    "\n",
    "output_test = mlEvaluationMetrics(y_test,y_test_pred,y_test_proba)\n",
    "\n",
    "arr = np.array([output_train,output_val,output_test])\n",
    "\n",
    "df_output = pd.DataFrame(data = arr, columns = col_output)\n",
    "\n",
    "df_output"
   ]
  },
  {
   "cell_type": "code",
   "execution_count": null,
   "id": "3e0ab2ec-56de-44bb-8553-da1ccac304be",
   "metadata": {},
   "outputs": [],
   "source": [
    "y_pred_report = best_model.predict(X_report)\n",
    "df_output = df_test_c_encoding_scale.copy()\n",
    "df_output[col_label] = y_pred_report\n",
    "df_output.replace({1: True, 0:False}, inplace = True)\n",
    "df_output[['PassengerId',col_label]].to_csv('mysubmission_xgboost.csv',index =False)"
   ]
  },
  {
   "cell_type": "code",
   "execution_count": null,
   "id": "7da339bd-34b8-4d75-a39c-ec99c30747fb",
   "metadata": {},
   "outputs": [],
   "source": []
  },
  {
   "cell_type": "code",
   "execution_count": null,
   "id": "e53ba62b-77c3-420f-bf98-d12173dadfa3",
   "metadata": {},
   "outputs": [],
   "source": []
  },
  {
   "cell_type": "markdown",
   "id": "c5d68fe8-81ce-46a8-a8f0-cdf02fe76db6",
   "metadata": {},
   "source": [
    "### 4.4 KNN"
   ]
  },
  {
   "cell_type": "code",
   "execution_count": null,
   "id": "fe27f210-1075-4e2b-9563-09a8f6943c39",
   "metadata": {},
   "outputs": [],
   "source": [
    "from sklearn.neighbors import (NeighborhoodComponentsAnalysis,KNeighborsClassifier)"
   ]
  },
  {
   "cell_type": "code",
   "execution_count": null,
   "id": "925b33f3-ff31-4d95-9b9d-022ae261f7c1",
   "metadata": {},
   "outputs": [],
   "source": [
    "knn = KNeighborsClassifier(n_neighbors=3)"
   ]
  },
  {
   "cell_type": "code",
   "execution_count": null,
   "id": "008d7696-094d-4e66-a61f-83ad6c7484fd",
   "metadata": {},
   "outputs": [],
   "source": [
    "knn.fit(X_train, y_train)"
   ]
  },
  {
   "cell_type": "code",
   "execution_count": null,
   "id": "6e4602a7-6c75-4b21-b36c-7743b3b47a3b",
   "metadata": {},
   "outputs": [],
   "source": [
    "y_val_pred = knn.predict(X_val)\n",
    "y_val_proba = knn.predict_proba(X_val)[:, 1]\n",
    "\n",
    "y_train_pred = knn.predict(X_train)\n",
    "y_train_proba = knn.predict_proba(X_train)[:, 1]\n",
    "\n",
    "y_test_pred = knn.predict(X_test)\n",
    "y_test_proba = knn.predict_proba(X_test)[:, 1]"
   ]
  },
  {
   "cell_type": "code",
   "execution_count": null,
   "id": "f30ef8b5-a9d3-4293-8229-51c9acc14e62",
   "metadata": {},
   "outputs": [],
   "source": [
    "output_train = mlEvaluationMetrics(y_train,y_train_pred,y_train_proba)\n",
    "\n",
    "output_val = mlEvaluationMetrics(y_val,y_val_pred,y_val_proba)\n",
    "\n",
    "output_test = mlEvaluationMetrics(y_test,y_test_pred,y_test_proba)\n",
    "\n",
    "arr = np.array([output_train,output_val,output_test])\n",
    "\n",
    "df_output = pd.DataFrame(data = arr, columns = col_output)\n",
    "\n",
    "df_output"
   ]
  },
  {
   "cell_type": "code",
   "execution_count": null,
   "id": "31fd1248-5908-482d-b2c5-0feeb8485118",
   "metadata": {},
   "outputs": [],
   "source": []
  },
  {
   "cell_type": "markdown",
   "id": "a6e0aefc-91ff-4796-9bc2-f9c0a9ba5a2b",
   "metadata": {},
   "source": [
    "### 4.5 MLP"
   ]
  },
  {
   "cell_type": "code",
   "execution_count": null,
   "id": "c7e0830a-0a9e-4cf8-b74c-4ba9dd7e6462",
   "metadata": {},
   "outputs": [],
   "source": [
    "import torch\n",
    "import torch.nn as nn\n",
    "import torch.optim as optim"
   ]
  },
  {
   "cell_type": "code",
   "execution_count": null,
   "id": "b75f8c51-dbfe-4fa2-9eb6-c3aac06faa52",
   "metadata": {},
   "outputs": [],
   "source": [
    "import torch\n",
    "import torch.nn as nn\n",
    "import torch.optim as optim\n",
    "import pandas as pd\n",
    "from sklearn.model_selection import train_test_split\n",
    "\n",
    "\n",
    "# Define the MLP model\n",
    "class MLP(nn.Module):\n",
    "    def __init__(self, input_size, hidden_size, output_size):\n",
    "        super(MLP, self).__init__()\n",
    "        self.fc1 = nn.Linear(input_size, hidden_size)\n",
    "        self.fc2 = nn.Linear(hidden_size, output_size)\n",
    "        self.sigmoid = nn.Sigmoid()\n",
    "        \n",
    "    def forward(self, x):\n",
    "        out = self.fc1(x)\n",
    "        out = self.sigmoid(out)\n",
    "        out = self.fc2(out)\n",
    "        out = self.sigmoid(out)\n",
    "        return out\n",
    "\n",
    "# Define the hyperparameters\n",
    "input_size = len(X_train.columns)\n",
    "hidden_size = 10\n",
    "output_size = 1\n",
    "learning_rate = 0.01\n",
    "num_epochs = 100\n",
    "\n",
    "# Instantiate the model, loss function, and optimizer\n",
    "model = MLP(input_size, hidden_size, output_size)\n",
    "criterion = nn.BCELoss()\n",
    "optimizer = optim.Adam(model.parameters(), lr=learning_rate)\n",
    "\n",
    "# Train the model\n",
    "for epoch in range(num_epochs):\n",
    "    # Convert the data to tensors\n",
    "    inputs = torch.Tensor(X_train.values)\n",
    "    labels = torch.Tensor(y_train.values).view(-1, 1)\n",
    "    \n",
    "    # Forward pass\n",
    "    outputs = model(inputs)\n",
    "    loss = criterion(outputs, labels)\n",
    "    \n",
    "    # Backward pass and optimization\n",
    "    optimizer.zero_grad()\n",
    "    loss.backward()\n",
    "    optimizer.step()\n",
    "    \n",
    "    # Print the loss every 10 epochs\n",
    "    if (epoch+1) % 10 == 0:\n",
    "        print('Epoch [{}/{}], Loss: {:.4f}'.format(epoch+1, num_epochs, loss.item()))\n",
    "\n",
    "# Evaluate the model on the test set\n",
    "with torch.no_grad():\n",
    "    inputs = torch.Tensor(X_test.values)\n",
    "    labels = torch.Tensor(y_test.values).view(-1, 1)\n",
    "    outputs = model(inputs)\n",
    "    predicted = (outputs > 0.5).float()\n",
    "    accuracy = (predicted == labels).float().mean()\n",
    "    print('Test Accuracy: {:.2f}%'.format(accuracy.item() * 100))\n"
   ]
  },
  {
   "cell_type": "code",
   "execution_count": null,
   "id": "1273ca56-359a-4826-8d55-89c09b7a3a26",
   "metadata": {},
   "outputs": [],
   "source": [
    "torch.save(model.state_dict(), 'model_weights_1.pth')"
   ]
  },
  {
   "cell_type": "code",
   "execution_count": null,
   "id": "a2886153-0fc9-493e-85c2-cfc887dc5b1c",
   "metadata": {},
   "outputs": [],
   "source": [
    "model1 = MLP(input_size, hidden_size, output_size)\n",
    "model1.load_state_dict(torch.load('model_weights_1.pth'))"
   ]
  },
  {
   "cell_type": "code",
   "execution_count": null,
   "id": "d8265742-b610-439a-b1c2-97e205cc72f4",
   "metadata": {},
   "outputs": [],
   "source": [
    "input_val = torch.Tensor(X_val.values)\n",
    "ouptut_val = model1(input_val)\n",
    "y_val_proba = ouptut_val.float().detach().numpy()\n",
    "y_val_pred = (ouptut_val > 0.5).float().detach().numpy()"
   ]
  },
  {
   "cell_type": "code",
   "execution_count": null,
   "id": "1c3aec79-069c-4fb1-af5e-2f4095176879",
   "metadata": {},
   "outputs": [],
   "source": [
    "input_test = torch.Tensor(X_test.values)\n",
    "ouptut_test = model1(input_test)\n",
    "y_test_proba = ouptut_test.float().detach().numpy()\n",
    "y_test_pred = (ouptut_test > 0.5).float().detach().numpy()"
   ]
  },
  {
   "cell_type": "code",
   "execution_count": null,
   "id": "a3af1922-efc2-4877-8715-8c1654b8f753",
   "metadata": {},
   "outputs": [],
   "source": [
    "input_train = torch.Tensor(X_train.values)\n",
    "ouptut_train = model1(input_train)\n",
    "y_train_proba = ouptut_train.float().detach().numpy()\n",
    "y_train_pred = (ouptut_train > 0.5).float().detach().numpy()"
   ]
  },
  {
   "cell_type": "code",
   "execution_count": null,
   "id": "960abeee-d449-47c9-88d5-0dd53224283c",
   "metadata": {},
   "outputs": [],
   "source": [
    "y_train_proba"
   ]
  },
  {
   "cell_type": "code",
   "execution_count": null,
   "id": "c08dcdb7-6ff1-4af5-a6d4-4c62891391fc",
   "metadata": {},
   "outputs": [],
   "source": [
    "output_train = mlEvaluationMetrics(y_train,y_train_pred,y_train_proba)\n",
    "\n",
    "output_val = mlEvaluationMetrics(y_val,y_val_pred,y_val_proba)\n",
    "\n",
    "output_test = mlEvaluationMetrics(y_test,y_test_pred,y_test_proba)\n",
    "\n",
    "arr = np.array([output_train,output_val,output_test])\n",
    "\n",
    "df_output = pd.DataFrame(data = arr, columns = col_output)\n",
    "\n",
    "df_output"
   ]
  },
  {
   "cell_type": "code",
   "execution_count": null,
   "id": "e61f2829-c2c3-4764-b582-aea903af5b4b",
   "metadata": {},
   "outputs": [],
   "source": []
  },
  {
   "cell_type": "markdown",
   "id": "705ea412-0095-4ccb-bcba-983cc49927bf",
   "metadata": {},
   "source": [
    "## 5 Prediction and Evaluation"
   ]
  },
  {
   "cell_type": "code",
   "execution_count": null,
   "id": "787845cd-a2e3-44a8-8085-2d34ae8dbb0c",
   "metadata": {},
   "outputs": [],
   "source": []
  },
  {
   "cell_type": "code",
   "execution_count": null,
   "id": "093ab427-cd2a-45c4-b06a-e6602f2fc699",
   "metadata": {},
   "outputs": [],
   "source": []
  },
  {
   "cell_type": "code",
   "execution_count": null,
   "id": "55d05035-e0a0-4cb1-8d9e-97f42ec60824",
   "metadata": {},
   "outputs": [],
   "source": []
  },
  {
   "cell_type": "code",
   "execution_count": null,
   "id": "b62f7906-e5b1-46d8-a36b-1d01bc0595c6",
   "metadata": {},
   "outputs": [],
   "source": []
  },
  {
   "cell_type": "code",
   "execution_count": null,
   "id": "a0a96b71-e28b-461d-bdc8-22c9e6e0a263",
   "metadata": {},
   "outputs": [],
   "source": [
    "## Check RF vs. Xgboost\n",
    "df_RF_pred = pd.read_csv('mysubmission_rf.csv')"
   ]
  },
  {
   "cell_type": "code",
   "execution_count": null,
   "id": "215ef11b-936c-4b9f-8b19-b86ea0a36ba1",
   "metadata": {},
   "outputs": [],
   "source": [
    "\n",
    "df_XGB_pred = pd.read_csv('mysubmission_xgboost.csv')"
   ]
  },
  {
   "cell_type": "code",
   "execution_count": null,
   "id": "f31791fb-1178-4d5c-aeec-18e2703694e8",
   "metadata": {},
   "outputs": [],
   "source": [
    "df_XGB_pred"
   ]
  },
  {
   "cell_type": "code",
   "execution_count": null,
   "id": "1a335db7-b085-419b-8759-31ef05671a3c",
   "metadata": {},
   "outputs": [],
   "source": [
    "df_RF_pred"
   ]
  },
  {
   "cell_type": "code",
   "execution_count": null,
   "id": "eaf14131-dfc2-44b9-8dc1-e2bad786ad9f",
   "metadata": {},
   "outputs": [],
   "source": [
    "df_RF_XGB_pred = df_RF_pred.merge(df_XGB_pred,  on = 'PassengerId',\n",
    "                 how='inner', suffixes=('_RF', '_XGB'))"
   ]
  },
  {
   "cell_type": "code",
   "execution_count": null,
   "id": "6f48a724-32dc-441d-830b-1c855b8ee90c",
   "metadata": {},
   "outputs": [],
   "source": [
    "df_RF_XGB_pred.groupby(by = ['Transported_RF','Transported_XGB'], as_index =False).size()"
   ]
  },
  {
   "cell_type": "code",
   "execution_count": null,
   "id": "ee86fc83-639a-4ea4-8d05-4843d572a574",
   "metadata": {},
   "outputs": [],
   "source": []
  }
 ],
 "metadata": {
  "kernelspec": {
   "display_name": "Python 3 (ipykernel)",
   "language": "python",
   "name": "python3"
  },
  "language_info": {
   "codemirror_mode": {
    "name": "ipython",
    "version": 3
   },
   "file_extension": ".py",
   "mimetype": "text/x-python",
   "name": "python",
   "nbconvert_exporter": "python",
   "pygments_lexer": "ipython3",
   "version": "3.11.5"
  }
 },
 "nbformat": 4,
 "nbformat_minor": 5
}
